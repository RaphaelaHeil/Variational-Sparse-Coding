{
 "cells": [
  {
   "cell_type": "code",
   "execution_count": 1,
   "metadata": {},
   "outputs": [
    {
     "data": {
      "text/plain": [
       "<torch._C.Generator at 0x7f33a8045cb0>"
      ]
     },
     "execution_count": 1,
     "metadata": {},
     "output_type": "execute_result"
    }
   ],
   "source": [
    "# Libraries \n",
    "import os\n",
    "import torch\n",
    "import argparse\n",
    "import torchvision\n",
    "import numpy as np\n",
    "from glob import glob\n",
    "import torch.utils.data\n",
    "from torch import nn, optim\n",
    "import matplotlib.pyplot as plt\n",
    "from torch.nn import functional as F\n",
    "from torchvision.utils import save_image\n",
    "from torchvision import datasets, transforms\n",
    "from torch.utils.data.sampler import SubsetRandomSampler\n",
    "\n",
    "%matplotlib inline\n",
    "\n",
    "#Set reproducibility seeed\n",
    "torch.manual_seed(1)"
   ]
  },
  {
   "cell_type": "code",
   "execution_count": 146,
   "metadata": {},
   "outputs": [],
   "source": [
    "import os\n",
    "os.chdir('..')\n"
   ]
  },
  {
   "cell_type": "code",
   "execution_count": 147,
   "metadata": {},
   "outputs": [
    {
     "data": {
      "text/plain": [
       "IncompatibleKeys(missing_keys=[], unexpected_keys=[])"
      ]
     },
     "execution_count": 147,
     "metadata": {},
     "output_type": "execute_result"
    }
   ],
   "source": [
    "#from models.vsc import VariationalSparseCoding\n",
    "from src.models.vsc import VariationalSparseCoding\n",
    "dataset = 'mnist'\n",
    "width = 28\n",
    "height = 28\n",
    "channels = 1\n",
    "hidden_size = '400'\n",
    "latent_size = 6\n",
    "lr = 0.01\n",
    "alpha = 0.5\n",
    "device = 'cpu'\n",
    "log_interval = 4\n",
    "normalize = False\n",
    "\n",
    "vsc = VariationalSparseCoding(dataset, width, height, channels, \n",
    "                                  hidden_size, latent_size, lr, \n",
    "                                  alpha, device, log_interval,\n",
    "                                  normalize)\n",
    "model_path = '/home/raphaela/Documents/UU/classes/EODL/project_01/Variational-Sparse-Coding/results/checkpoints/VSC_mnist_1572447611_1_5_6_0-001_4.pth'\n",
    "vsc.model.load_state_dict(torch.load(model_path))"
   ]
  },
  {
   "cell_type": "code",
   "execution_count": 140,
   "metadata": {},
   "outputs": [
    {
     "data": {
      "text/plain": [
       "VSC(\n",
       "  (fc1): Linear(in_features=784, out_features=400, bias=True)\n",
       "  (fc1n): ModuleList()\n",
       "  (fc21): Linear(in_features=400, out_features=6, bias=True)\n",
       "  (fc22): Linear(in_features=400, out_features=6, bias=True)\n",
       "  (fc23): Linear(in_features=400, out_features=6, bias=True)\n",
       "  (fc3): Linear(in_features=6, out_features=400, bias=True)\n",
       "  (fc3n): ModuleList()\n",
       "  (fc4): Linear(in_features=400, out_features=784, bias=True)\n",
       ")"
      ]
     },
     "execution_count": 140,
     "metadata": {},
     "output_type": "execute_result"
    }
   ],
   "source": [
    "vsc.model"
   ]
  },
  {
   "cell_type": "code",
   "execution_count": 141,
   "metadata": {},
   "outputs": [
    {
     "name": "stdout",
     "output_type": "stream",
     "text": [
      "    4     9     7     9     1     1     1     6     9     3     4     4     8     7     9     9\n"
     ]
    },
    {
     "data": {
      "image/png": "[encoded data removed]",
      "text/plain": [
       "<Figure size 432x288 with 1 Axes>"
      ]
     },
     "metadata": {
      "needs_background": "light"
     },
     "output_type": "display_data"
    }
   ],
   "source": [
    "\n",
    "BATCH_SIZE = 32\n",
    "\n",
    "### MNIST \n",
    "mnist_train_loader = torch.utils.data.DataLoader(\n",
    "                        datasets.MNIST('../data/mnist', train=True, transform=transforms.ToTensor()),\n",
    "                        batch_size=BATCH_SIZE, shuffle=False, sampler=SubsetRandomSampler(np.random.permutation(60000)[:5000]) )\n",
    "\n",
    "dataiter = iter(mnist_train_loader)\n",
    "mnist_images, mnist_labels = dataiter.next()\n",
    "\n",
    "## MNIST\n",
    "mnist_test_loader = torch.utils.data.DataLoader(\n",
    "                        datasets.MNIST('../data/mnist', train=False, transform=transforms.ToTensor()),\n",
    "                        batch_size=BATCH_SIZE, shuffle=True)\n",
    "\n",
    "\n",
    "dataiter = iter(mnist_train_loader)\n",
    "mnist_images, mnist_labels = dataiter.next()\n",
    "\n",
    "\n",
    "def imshow(img):\n",
    "    npimg = 1 - img.numpy() # White background\n",
    "    plt.imshow(np.transpose(npimg, (1, 2, 0)), interpolation = 'nearest')\n",
    "\n",
    "# Display images with labels\n",
    "imshow(torchvision.utils.make_grid(mnist_images[:16], 4 ))\n",
    "print(' '.join('%5s' % str(mnist_labels[j].item()) for j in range(16)))"
   ]
  },
  {
   "cell_type": "code",
   "execution_count": 142,
   "metadata": {},
   "outputs": [],
   "source": [
    "# Plot the z encoding \n",
    "def plot_encoding ( example_image , model , alpha , width = 1/2 ):\n",
    "    print(example_image.size())\n",
    "    \n",
    "    example_image = vsc.transform(example_image)\n",
    "    decoded , mu, logvar,logspike  = model.forward( example_image )\n",
    "    z = model.reparameterize( mu , logvar , logspike  )\n",
    "    \n",
    "    example_image = example_image.view(1,28,28)\n",
    "    \n",
    "    fig, (ax0, ax1, ax2) = plt.subplots(nrows=1, ncols = 3 , figsize=(21,7) )\n",
    "    \n",
    "    img =  torchvision.utils.make_grid( example_image ) \n",
    "    npimg = 1 - img.detach().numpy() # White background\n",
    "    ax0.imshow(np.transpose(npimg, (1, 2, 0)), interpolation = 'nearest')\n",
    "    ax0.set_title('Input Image', fontsize = 20 )\n",
    "    \n",
    "    ax1.bar( np.arange(z.shape[1]) , height = z.detach().numpy()[0] , width = width, align = 'center'  )\n",
    "    ax1.scatter(  np.arange(z.shape[1]) , z.detach().numpy()[0], color = 'blue' )\n",
    "    ax1.set_title(r\"Latent Dimension %d - $\\alpha$ = %.2f \"%(z.shape[1], alpha) , fontsize = 20)\n",
    "    \n",
    "    decoded = decoded.view(1,28,28)\n",
    "    img =  torchvision.utils.make_grid( model.decode( z ).view(1,1,28,28) ) \n",
    "    npimg = 1 - img.detach().numpy() # White background\n",
    "    ax2.imshow(np.transpose(npimg, (1, 2, 0)), interpolation = 'nearest')\n",
    "    ax2.set_title('Decoded Image', fontsize = 20 )\n",
    "\n",
    "    plt.subplots_adjust(hspace=0.5)"
   ]
  },
  {
   "cell_type": "code",
   "execution_count": 149,
   "metadata": {},
   "outputs": [
    {
     "name": "stdout",
     "output_type": "stream",
     "text": [
      "torch.Size([1, 28, 28])\n"
     ]
    },
    {
     "data": {
      "image/png": "[encoded data removed]",
      "text/plain": [
       "<Figure size 1512x504 with 3 Axes>"
      ]
     },
     "metadata": {
      "needs_background": "light"
     },
     "output_type": "display_data"
    }
   ],
   "source": [
    "#plot_encoding( mnist_images[2] , vsc.model, 0.01, width = 1/7  )\n",
    "\n",
    "#img = vsc.transform(mnist_images[2])\n",
    "\n",
    "plot_encoding(mnist_images[2], vsc.model, 0.01 )\n",
    "#plot_encoding( mnist_images[2] , vsc.model, 0.01 )"
   ]
  },
  {
   "cell_type": "code",
   "execution_count": 144,
   "metadata": {},
   "outputs": [
    {
     "data": {
      "application/vnd.jupyter.widget-view+json": {
       "model_id": "176dd874031347b69f801d6a3d6d65f0",
       "version_major": 2,
       "version_minor": 0
      },
      "text/plain": [
       "interactive(children=(FloatSlider(value=0.0, description='x0', max=3.0, min=-3.0, step=0.5), FloatSlider(value…"
      ]
     },
     "metadata": {},
     "output_type": "display_data"
    },
    {
     "data": {
      "text/plain": [
       "<function __main__.plot_result(x0, x1, x2, x3, x4, x5, x6, x7, x8, x9)>"
      ]
     },
     "execution_count": 144,
     "metadata": {},
     "output_type": "execute_result"
    },
    {
     "data": {
      "image/png": "[encoded data removed]",
      "text/plain": [
       "<Figure size 720x360 with 2 Axes>"
      ]
     },
     "metadata": {
      "needs_background": "light"
     },
     "output_type": "display_data"
    }
   ],
   "source": [
    "from ipywidgets import interact, interactive, fixed, interact_manual\n",
    "from ipywidgets import FloatSlider\n",
    "import ipywidgets as widgets\n",
    "\n",
    "\n",
    "def plot_result( x0, x1, x2, x3, x4, x5, x6, x7, x8, x9):\n",
    "    \n",
    "    z = torch.from_numpy(np.asarray([x0,x1,x2,x3,x4,x5,x6,x7, x8,x9])).view(1,-1)\n",
    "    z = z.type(torch.FloatTensor)\n",
    "    \n",
    "    fig, ax = plt.subplots(nrows=1, ncols = 2 , figsize=(10,5 ) )\n",
    "    \n",
    "    #Plot encodings\n",
    "    ax[0].bar( np.arange(z.shape[1]) , height = z.detach().numpy()[0] , width = 1/7  )\n",
    "    ax[0].scatter(  np.arange(z.shape[1]) , z.detach().numpy()[0], color = 'blue' )\n",
    "    ax[0].set_title(r\"Latent Dimension %d - $\\alpha$ = %.2f \"%(z.shape[1], 0.01) , fontsize = 20)\n",
    "    ax[0].set_ylim(-3.1, 3.1)\n",
    "    \n",
    "    #Plot decoded images\n",
    "    img =  torchvision.utils.make_grid( vsc.model.decode( z ).view(1,1,28,28) ) \n",
    "    npimg = 1 - img.detach().numpy() # White background\n",
    "    ax[1].imshow(np.transpose(npimg, (1, 2, 0)), interpolation = 'nearest')\n",
    "    ax[1].set_title('Decoded Image', fontsize = 20 )\n",
    "    \n",
    "\n",
    "interact(plot_result ,\n",
    "                x0 = FloatSlider(min=-3.0, max=3.0, step=0.5) , \n",
    "                x1 = FloatSlider(min=-3.0, max=3.0, step=0.5) , \n",
    "                x2 = FloatSlider(min=-3.0, max=3.0, step=0.5) , \n",
    "                x3 = FloatSlider(min=-3.0, max=3.0, step=0.5) , \n",
    "                x4 = FloatSlider(min=-3.0, max=3.0, step=0.5) , \n",
    "                x5 = FloatSlider(min=-3.0, max=3.0, step=0.5) , \n",
    "                x6 = FloatSlider(min=-3.0, max=3.0, step=0.5) , \n",
    "                x7 = FloatSlider(min=-3.0, max=3.0, step=0.5),\n",
    "                x8 = FloatSlider(min=-3.0, max=3.0, step=0.5) , \n",
    "                x9 = FloatSlider(min=-3.0, max=3.0, step=0.5) , )"
   ]
  },
  {
   "cell_type": "code",
   "execution_count": 145,
   "metadata": {},
   "outputs": [],
   "source": [
    "def vsc_conditional_sampling ( example_image , model , length = 6, percentage = 0.8 ):\n",
    "    example_image = vsc.transform(example_image)\n",
    "    decoded , mu, logvar,logspike  = model.forward( example_image )\n",
    "    z = model.reparameterize( mu , logvar , logspike  )\n",
    "    \n",
    "    plt.figure(figsize = (2,2))\n",
    "    plt.axis('off')\n",
    "    img = torchvision.utils.make_grid( example_image.view(1,1,28,28)).numpy()\n",
    "    \n",
    "    plt.imshow(np.transpose(1-img,(1,2,0)))\n",
    "    plt.show()\n",
    "\n",
    "    # Non zero elements\n",
    "    non_zero = []\n",
    "    for i in range(z.shape[1]):\n",
    "        if np.abs(z[0,i].detach().numpy()) > 1e-4:\n",
    "            non_zero.append(i)\n",
    "\n",
    "    # Pick a set of random non zero coordinates of percentage of the activated dimensions\n",
    "    ind = np.random.choice(non_zero, int(percentage * len(non_zero) ) )\n",
    "\n",
    "    # Produce result images\n",
    "    images = []\n",
    "    for _ in range(length):\n",
    "    \n",
    "        # Obtain samples for each activated dimension\n",
    "        z1 = z.clone()\n",
    "        for i in ind:\n",
    "            z1[0,i] = np.random.normal() # Prior Gasussian Components\n",
    "            \n",
    "        img =  torchvision.utils.make_grid( model.decode( z1 ).view(1,1,28,28) ) \n",
    "        npimg = 1 - img.detach().numpy() # White background\n",
    "        images.append(np.transpose(npimg, (1, 2, 0)))\n",
    "        \n",
    "    traversal = np.concatenate(images, axis = 1 )\n",
    "    \n",
    "    plt.figure(figsize = (14,10))\n",
    "    plt.axis('off')\n",
    "    plt.imshow(traversal)\n",
    "    plt.show()\n",
    "    \n",
    "    return traversal"
   ]
  },
  {
   "cell_type": "code",
   "execution_count": 138,
   "metadata": {},
   "outputs": [
    {
     "name": "stderr",
     "output_type": "stream",
     "text": [
      "/home/raphaela/anaconda3/envs/vsc/lib/python3.7/site-packages/torch/nn/functional.py:1386: UserWarning: nn.functional.sigmoid is deprecated. Use torch.sigmoid instead.\n",
      "  warnings.warn(\"nn.functional.sigmoid is deprecated. Use torch.sigmoid instead.\")\n"
     ]
    },
    {
     "data": {
      "image/png": "[encoded data removed]",
      "text/plain": [
       "<Figure size 144x144 with 1 Axes>"
      ]
     },
     "metadata": {
      "needs_background": "light"
     },
     "output_type": "display_data"
    },
    {
     "data": {
      "image/png": "[encoded data removed]",
      "text/plain": [
       "<Figure size 1008x720 with 1 Axes>"
      ]
     },
     "metadata": {
      "needs_background": "light"
     },
     "output_type": "display_data"
    }
   ],
   "source": [
    "digit = vsc_conditional_sampling( mnist_images[21] , vsc.model, length=20)"
   ]
  },
  {
   "cell_type": "code",
   "execution_count": null,
   "metadata": {},
   "outputs": [],
   "source": []
  }
 ],
 "metadata": {
  "kernelspec": {
   "display_name": "Python [conda env:vsc] *",
   "language": "python",
   "name": "conda-env-vsc-py"
  },
  "language_info": {
   "codemirror_mode": {
    "name": "ipython",
    "version": 3
   },
   "file_extension": ".py",
   "mimetype": "text/x-python",
   "name": "python",
   "nbconvert_exporter": "python",
   "pygments_lexer": "ipython3",
   "version": "3.7.4"
  }
 },
 "nbformat": 4,
 "nbformat_minor": 2
}
